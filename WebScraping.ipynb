{
 "cells": [
  {
   "cell_type": "markdown",
   "id": "436c8751-cd75-4732-b29d-cf09f513f835",
   "metadata": {},
   "source": [
    "# Web Scraping"
   ]
  },
  {
   "cell_type": "code",
   "execution_count": 1,
   "id": "1c3abc4e-c32e-431f-9162-2e7991ecc0be",
   "metadata": {},
   "outputs": [
    {
     "name": "stdout",
     "output_type": "stream",
     "text": [
      "Libraries successfully loaded!\n"
     ]
    }
   ],
   "source": [
    "import requests\n",
    "from bs4 import BeautifulSoup\n",
    "import lxml\n",
    "import html5lib\n",
    "\n",
    "print(\"Libraries successfully loaded!\")"
   ]
  },
  {
   "cell_type": "markdown",
   "id": "f552732a-4c28-4b02-a35d-408e1635f0ab",
   "metadata": {},
   "source": [
    "## Beautiful Soup Objects"
   ]
  },
  {
   "cell_type": "code",
   "execution_count": 2,
   "id": "ce8d7011-467a-4bee-bd97-3fe6d9632deb",
   "metadata": {},
   "outputs": [
    {
     "data": {
      "text/html": [
       "<!DOCTYPE html>\n",
       "<html>\n",
       "<head>\n",
       "<title>Page Title</title>\n",
       "</head>\n",
       "<body>\n",
       "<h3><b id='boldest'>Lebron James<b></h3>\n",
       "<p> Salary: $ 92,000,000 </p>\n",
       "<h3> Stephen Curry </h3>\n",
       "<p> Salary: $ 85,000,000 </p>\n",
       "<h3> Kevin Durant </h3>\n",
       "<p> Salary: $ 73,200,000 </p>\n",
       "</body>\n",
       "</html>\n"
      ],
      "text/plain": [
       "<IPython.core.display.HTML object>"
      ]
     },
     "metadata": {},
     "output_type": "display_data"
    }
   ],
   "source": [
    "%%html\n",
    "<!DOCTYPE html>\n",
    "<html>\n",
    "<head>\n",
    "<title>Page Title</title>\n",
    "</head>\n",
    "<body>\n",
    "<h3><b id='boldest'>Lebron James<b></h3>\n",
    "<p> Salary: $ 92,000,000 </p>\n",
    "<h3> Stephen Curry </h3>\n",
    "<p> Salary: $ 85,000,000 </p>\n",
    "<h3> Kevin Durant </h3>\n",
    "<p> Salary: $ 73,200,000 </p>\n",
    "</body>\n",
    "</html>"
   ]
  },
  {
   "cell_type": "code",
   "execution_count": 3,
   "id": "c7844b38-b381-47a5-bf25-e5d12a4db8f1",
   "metadata": {},
   "outputs": [],
   "source": [
    "html = \"<!DOCTYPE html><html><head><title>Page Title</title></head><body><h3><b id='boldest'>Lebron James</b></h3><p> Salary: $ 92,000,000 </p><h3> Stephen Curry </h3><p> Salary: $ 85,000,000 </p><h3> Kevin Durant </h3><p> Salary: $ 73,200,000 </p></body></html>\"\n"
   ]
  },
  {
   "cell_type": "code",
   "execution_count": 4,
   "id": "7ae0261a-5c0f-4202-99d1-f1d224b639c6",
   "metadata": {},
   "outputs": [],
   "source": [
    "soup = BeautifulSoup(html, \"html.parser\")"
   ]
  },
  {
   "cell_type": "code",
   "execution_count": 5,
   "id": "ca85a7d3-3bbd-4ce2-ab0e-1aab89947ee9",
   "metadata": {
    "scrolled": true
   },
   "outputs": [
    {
     "name": "stdout",
     "output_type": "stream",
     "text": [
      "<!DOCTYPE html>\n",
      "<html>\n",
      " <head>\n",
      "  <title>\n",
      "   Page Title\n",
      "  </title>\n",
      " </head>\n",
      " <body>\n",
      "  <h3>\n",
      "   <b id=\"boldest\">\n",
      "    Lebron James\n",
      "   </b>\n",
      "  </h3>\n",
      "  <p>\n",
      "   Salary: $ 92,000,000\n",
      "  </p>\n",
      "  <h3>\n",
      "   Stephen Curry\n",
      "  </h3>\n",
      "  <p>\n",
      "   Salary: $ 85,000,000\n",
      "  </p>\n",
      "  <h3>\n",
      "   Kevin Durant\n",
      "  </h3>\n",
      "  <p>\n",
      "   Salary: $ 73,200,000\n",
      "  </p>\n",
      " </body>\n",
      "</html>\n",
      "\n"
     ]
    }
   ],
   "source": [
    "print(soup.prettify())"
   ]
  },
  {
   "cell_type": "markdown",
   "id": "2ed4e457-8f5e-4fc8-9df5-3a6416cb5cbd",
   "metadata": {},
   "source": [
    "## Tags"
   ]
  },
  {
   "cell_type": "code",
   "execution_count": 6,
   "id": "f47aa3f7-c610-4739-a537-48bc6c435ac0",
   "metadata": {},
   "outputs": [
    {
     "name": "stdout",
     "output_type": "stream",
     "text": [
      "tag object:  <title>Page Title</title>\n"
     ]
    }
   ],
   "source": [
    "tag_object = soup.title\n",
    "print(\"tag object: \", tag_object)"
   ]
  },
  {
   "cell_type": "code",
   "execution_count": 7,
   "id": "c7c8679d-e87e-4c96-8226-90812b65bd08",
   "metadata": {},
   "outputs": [
    {
     "name": "stdout",
     "output_type": "stream",
     "text": [
      "tag object type:  <class 'bs4.element.Tag'>\n"
     ]
    }
   ],
   "source": [
    "print(\"tag object type: \", type(tag_object))"
   ]
  },
  {
   "cell_type": "code",
   "execution_count": 8,
   "id": "efd32d3e-5763-4d55-a73a-e08cb4b27e9c",
   "metadata": {},
   "outputs": [
    {
     "data": {
      "text/plain": [
       "<h3><b id=\"boldest\">Lebron James</b></h3>"
      ]
     },
     "execution_count": 8,
     "metadata": {},
     "output_type": "execute_result"
    }
   ],
   "source": [
    "tag_object=soup.h3\n",
    "tag_object"
   ]
  },
  {
   "cell_type": "markdown",
   "id": "51ea99ff-48de-4ecb-aae6-7c3d10e734cf",
   "metadata": {},
   "source": [
    "## Children, Parents and Siblings"
   ]
  },
  {
   "cell_type": "code",
   "execution_count": 9,
   "id": "375247c6-0cd2-4b73-9799-726fcb0ec6ce",
   "metadata": {},
   "outputs": [
    {
     "data": {
      "text/plain": [
       "<b id=\"boldest\">Lebron James</b>"
      ]
     },
     "execution_count": 9,
     "metadata": {},
     "output_type": "execute_result"
    }
   ],
   "source": [
    "tag_child = tag_object.b\n",
    "tag_child"
   ]
  },
  {
   "cell_type": "code",
   "execution_count": 10,
   "id": "0474686e-f12d-4cd0-8a67-a4456da2c759",
   "metadata": {},
   "outputs": [
    {
     "data": {
      "text/plain": [
       "<h3><b id=\"boldest\">Lebron James</b></h3>"
      ]
     },
     "execution_count": 10,
     "metadata": {},
     "output_type": "execute_result"
    }
   ],
   "source": [
    "parent_tag = tag_child.parent\n",
    "parent_tag"
   ]
  },
  {
   "cell_type": "code",
   "execution_count": 11,
   "id": "d7d891ca-955b-4b1b-bf30-d8f4f3694c6e",
   "metadata": {},
   "outputs": [
    {
     "data": {
      "text/plain": [
       "<h3><b id=\"boldest\">Lebron James</b></h3>"
      ]
     },
     "execution_count": 11,
     "metadata": {},
     "output_type": "execute_result"
    }
   ],
   "source": [
    "tag_object"
   ]
  },
  {
   "cell_type": "code",
   "execution_count": 12,
   "id": "dd4627a8-8208-4d3c-abd9-0f913ae9ed32",
   "metadata": {},
   "outputs": [
    {
     "data": {
      "text/plain": [
       "<body><h3><b id=\"boldest\">Lebron James</b></h3><p> Salary: $ 92,000,000 </p><h3> Stephen Curry </h3><p> Salary: $ 85,000,000 </p><h3> Kevin Durant </h3><p> Salary: $ 73,200,000 </p></body>"
      ]
     },
     "execution_count": 12,
     "metadata": {},
     "output_type": "execute_result"
    }
   ],
   "source": [
    "tag_object.parent"
   ]
  },
  {
   "cell_type": "code",
   "execution_count": 13,
   "id": "3ec172d5-f34b-472f-ae65-338821ac8477",
   "metadata": {},
   "outputs": [
    {
     "data": {
      "text/plain": [
       "<p> Salary: $ 92,000,000 </p>"
      ]
     },
     "execution_count": 13,
     "metadata": {},
     "output_type": "execute_result"
    }
   ],
   "source": [
    "sibling_1 = tag_object.next_sibling\n",
    "sibling_1"
   ]
  },
  {
   "cell_type": "code",
   "execution_count": 14,
   "id": "4cbed954-3062-4232-a072-e5338f111df0",
   "metadata": {},
   "outputs": [
    {
     "data": {
      "text/plain": [
       "<h3> Stephen Curry </h3>"
      ]
     },
     "execution_count": 14,
     "metadata": {},
     "output_type": "execute_result"
    }
   ],
   "source": [
    "sibling_2 = sibling_1.next_sibling\n",
    "sibling_2"
   ]
  },
  {
   "cell_type": "code",
   "execution_count": 15,
   "id": "3d2867b4-b0f1-4971-8cde-f3d0ebb04842",
   "metadata": {},
   "outputs": [
    {
     "data": {
      "text/plain": [
       "<p> Salary: $ 85,000,000 </p>"
      ]
     },
     "execution_count": 15,
     "metadata": {},
     "output_type": "execute_result"
    }
   ],
   "source": [
    "sibling_3 = sibling_2.next_sibling\n",
    "sibling_3"
   ]
  },
  {
   "cell_type": "markdown",
   "id": "4cf923e8-99de-4bc1-ba53-0ac969f90f85",
   "metadata": {},
   "source": [
    "## HTML Attributes"
   ]
  },
  {
   "cell_type": "code",
   "execution_count": 16,
   "id": "1818bfa5-4161-415a-a740-faf46e1ce7be",
   "metadata": {},
   "outputs": [
    {
     "data": {
      "text/plain": [
       "'boldest'"
      ]
     },
     "execution_count": 16,
     "metadata": {},
     "output_type": "execute_result"
    }
   ],
   "source": [
    "tag_child['id']"
   ]
  },
  {
   "cell_type": "code",
   "execution_count": 17,
   "id": "e36263e4-8926-4e60-a45f-5df369e02dc5",
   "metadata": {},
   "outputs": [
    {
     "data": {
      "text/plain": [
       "{'id': 'boldest'}"
      ]
     },
     "execution_count": 17,
     "metadata": {},
     "output_type": "execute_result"
    }
   ],
   "source": [
    "tag_child.attrs"
   ]
  },
  {
   "cell_type": "code",
   "execution_count": 18,
   "id": "6f240bf3-b3bf-4a93-9ab5-d244781a1817",
   "metadata": {},
   "outputs": [
    {
     "data": {
      "text/plain": [
       "'boldest'"
      ]
     },
     "execution_count": 18,
     "metadata": {},
     "output_type": "execute_result"
    }
   ],
   "source": [
    "tag_child.get('id')"
   ]
  },
  {
   "cell_type": "markdown",
   "id": "fc59b06d-25cb-47fd-9666-500f3888c340",
   "metadata": {},
   "source": [
    "### Navigable String"
   ]
  },
  {
   "cell_type": "code",
   "execution_count": 19,
   "id": "049e8699-77c6-4e7c-bcfa-4d1239afa194",
   "metadata": {},
   "outputs": [
    {
     "data": {
      "text/plain": [
       "'Lebron James'"
      ]
     },
     "execution_count": 19,
     "metadata": {},
     "output_type": "execute_result"
    }
   ],
   "source": [
    "tag_string = tag_child.string\n",
    "tag_string"
   ]
  },
  {
   "cell_type": "code",
   "execution_count": 20,
   "id": "07b46b1e-56ce-4825-b2c7-9914aeb4d54a",
   "metadata": {},
   "outputs": [
    {
     "data": {
      "text/plain": [
       "bs4.element.NavigableString"
      ]
     },
     "execution_count": 20,
     "metadata": {},
     "output_type": "execute_result"
    }
   ],
   "source": [
    "type(tag_string)"
   ]
  },
  {
   "cell_type": "code",
   "execution_count": 21,
   "id": "1ba3aaf2-801a-4479-ae46-efa8d4616aac",
   "metadata": {},
   "outputs": [
    {
     "data": {
      "text/plain": [
       "'Lebron James'"
      ]
     },
     "execution_count": 21,
     "metadata": {},
     "output_type": "execute_result"
    }
   ],
   "source": [
    "unicode_string = str(tag_string)\n",
    "unicode_string"
   ]
  },
  {
   "cell_type": "markdown",
   "id": "d6550f40-b41c-49f1-b727-705fa113ded8",
   "metadata": {},
   "source": [
    "## Filter"
   ]
  },
  {
   "cell_type": "code",
   "execution_count": 22,
   "id": "7efc9781-c366-4f83-b9ae-477fe511c01d",
   "metadata": {},
   "outputs": [
    {
     "data": {
      "text/html": [
       "<table>\n",
       "  <tr>\n",
       "    <td id='flight' >Flight No</td>\n",
       "    <td>Launch site</td> \n",
       "    <td>Payload mass</td>\n",
       "   </tr>\n",
       "  <tr> \n",
       "    <td>1</td>\n",
       "    <td><a href='https://en.wikipedia.org/wiki/Florida'>Florida</a></td>\n",
       "    <td>300 kg</td>\n",
       "  </tr>\n",
       "  <tr>\n",
       "    <td>2</td>\n",
       "    <td><a href='https://en.wikipedia.org/wiki/Texas'>Texas</a></td>\n",
       "    <td>94 kg</td>\n",
       "  </tr>\n",
       "  <tr>\n",
       "    <td>3</td>\n",
       "    <td><a href='https://en.wikipedia.org/wiki/Florida'>Florida</a> </td>\n",
       "    <td>80 kg</td>\n",
       "  </tr>\n",
       "</table>\n"
      ],
      "text/plain": [
       "<IPython.core.display.HTML object>"
      ]
     },
     "metadata": {},
     "output_type": "display_data"
    }
   ],
   "source": [
    "%%html\n",
    "<table>\n",
    "  <tr>\n",
    "    <td id='flight' >Flight No</td>\n",
    "    <td>Launch site</td> \n",
    "    <td>Payload mass</td>\n",
    "   </tr>\n",
    "  <tr> \n",
    "    <td>1</td>\n",
    "    <td><a href='https://en.wikipedia.org/wiki/Florida'>Florida</a></td>\n",
    "    <td>300 kg</td>\n",
    "  </tr>\n",
    "  <tr>\n",
    "    <td>2</td>\n",
    "    <td><a href='https://en.wikipedia.org/wiki/Texas'>Texas</a></td>\n",
    "    <td>94 kg</td>\n",
    "  </tr>\n",
    "  <tr>\n",
    "    <td>3</td>\n",
    "    <td><a href='https://en.wikipedia.org/wiki/Florida'>Florida</a> </td>\n",
    "    <td>80 kg</td>\n",
    "  </tr>\n",
    "</table>"
   ]
  },
  {
   "cell_type": "code",
   "execution_count": 23,
   "id": "f6d709d8-6615-41a6-bfe9-96936a8be11b",
   "metadata": {},
   "outputs": [],
   "source": [
    " table=\"<table><tr><td id='flight' >Flight No</td><td>Launch site</td><td>Payload mass</td></tr><tr><td>1</td><td><a href='https://en.wikipedia.org/wiki/Florida'>Florida</a></td><td>300 kg</td></tr><tr><td>2</td><td><a href='https://en.wikipedia.org/wiki/Texas'>Texas</a></td><td>94 kg</td></tr><tr><td>3</td><td><a href='https://en.wikipedia.org/wiki/Florida'>Florida</a> </td><td>80 kg</td></tr></table>\""
   ]
  },
  {
   "cell_type": "code",
   "execution_count": 24,
   "id": "681bfd01-5f1a-49b8-b13c-9df48c8b6bde",
   "metadata": {},
   "outputs": [],
   "source": [
    "table_bs = BeautifulSoup(table, \"html.parser\")"
   ]
  },
  {
   "cell_type": "markdown",
   "id": "941f23f6-d33e-4ba8-a6fd-f6e786dc48d9",
   "metadata": {},
   "source": [
    "## find All"
   ]
  },
  {
   "cell_type": "markdown",
   "id": "be02bf33-2fc7-41a9-bce7-b15448bf7658",
   "metadata": {},
   "source": [
    "### Name"
   ]
  },
  {
   "cell_type": "code",
   "execution_count": 25,
   "id": "3fe9dcdb-372d-416c-b119-b5b009cff838",
   "metadata": {},
   "outputs": [
    {
     "data": {
      "text/plain": [
       "[<tr><td id=\"flight\">Flight No</td><td>Launch site</td><td>Payload mass</td></tr>,\n",
       " <tr><td>1</td><td><a href=\"https://en.wikipedia.org/wiki/Florida\">Florida</a></td><td>300 kg</td></tr>,\n",
       " <tr><td>2</td><td><a href=\"https://en.wikipedia.org/wiki/Texas\">Texas</a></td><td>94 kg</td></tr>,\n",
       " <tr><td>3</td><td><a href=\"https://en.wikipedia.org/wiki/Florida\">Florida</a> </td><td>80 kg</td></tr>]"
      ]
     },
     "execution_count": 25,
     "metadata": {},
     "output_type": "execute_result"
    }
   ],
   "source": [
    "table_rows = table_bs.find_all('tr')\n",
    "table_rows"
   ]
  },
  {
   "cell_type": "code",
   "execution_count": 26,
   "id": "3944a5b3-17af-407a-b12f-14ee536f1990",
   "metadata": {},
   "outputs": [
    {
     "data": {
      "text/plain": [
       "<tr><td id=\"flight\">Flight No</td><td>Launch site</td><td>Payload mass</td></tr>"
      ]
     },
     "execution_count": 26,
     "metadata": {},
     "output_type": "execute_result"
    }
   ],
   "source": [
    "first_row = table_rows[0]\n",
    "first_row"
   ]
  },
  {
   "cell_type": "code",
   "execution_count": 27,
   "id": "8d5ca77a-c65a-463a-a2f2-5e80389b9261",
   "metadata": {},
   "outputs": [
    {
     "name": "stdout",
     "output_type": "stream",
     "text": [
      "<class 'bs4.element.Tag'>\n"
     ]
    }
   ],
   "source": [
    "print(type(first_row))"
   ]
  },
  {
   "cell_type": "code",
   "execution_count": 28,
   "id": "81adf37b-1a41-4943-94cc-b554f71b7f3d",
   "metadata": {},
   "outputs": [
    {
     "data": {
      "text/plain": [
       "<td id=\"flight\">Flight No</td>"
      ]
     },
     "execution_count": 28,
     "metadata": {},
     "output_type": "execute_result"
    }
   ],
   "source": [
    "first_row.td"
   ]
  },
  {
   "cell_type": "code",
   "execution_count": 29,
   "id": "0b380463-0d4c-4cf5-9b38-46b2a406c3a5",
   "metadata": {},
   "outputs": [
    {
     "name": "stdout",
     "output_type": "stream",
     "text": [
      "row 0 is <tr><td id=\"flight\">Flight No</td><td>Launch site</td><td>Payload mass</td></tr>\n",
      "row 1 is <tr><td>1</td><td><a href=\"https://en.wikipedia.org/wiki/Florida\">Florida</a></td><td>300 kg</td></tr>\n",
      "row 2 is <tr><td>2</td><td><a href=\"https://en.wikipedia.org/wiki/Texas\">Texas</a></td><td>94 kg</td></tr>\n",
      "row 3 is <tr><td>3</td><td><a href=\"https://en.wikipedia.org/wiki/Florida\">Florida</a> </td><td>80 kg</td></tr>\n"
     ]
    }
   ],
   "source": [
    "for i,row in enumerate(table_rows):\n",
    "    print(\"row\",i,\"is\",row)"
   ]
  },
  {
   "cell_type": "code",
   "execution_count": 30,
   "id": "1113ce43-8414-4d20-a74c-e8f7b3dc4e0e",
   "metadata": {
    "scrolled": true
   },
   "outputs": [
    {
     "name": "stdout",
     "output_type": "stream",
     "text": [
      "row 0\n",
      "colunm 0 cell <td id=\"flight\">Flight No</td>\n",
      "colunm 1 cell <td>Launch site</td>\n",
      "colunm 2 cell <td>Payload mass</td>\n",
      "row 1\n",
      "colunm 0 cell <td>1</td>\n",
      "colunm 1 cell <td><a href=\"https://en.wikipedia.org/wiki/Florida\">Florida</a></td>\n",
      "colunm 2 cell <td>300 kg</td>\n",
      "row 2\n",
      "colunm 0 cell <td>2</td>\n",
      "colunm 1 cell <td><a href=\"https://en.wikipedia.org/wiki/Texas\">Texas</a></td>\n",
      "colunm 2 cell <td>94 kg</td>\n",
      "row 3\n",
      "colunm 0 cell <td>3</td>\n",
      "colunm 1 cell <td><a href=\"https://en.wikipedia.org/wiki/Florida\">Florida</a> </td>\n",
      "colunm 2 cell <td>80 kg</td>\n"
     ]
    }
   ],
   "source": [
    "for i,row in enumerate(table_rows):\n",
    "    print(\"row\",i)\n",
    "    cells = row.find_all('td')\n",
    "    for j,cell in enumerate(cells):\n",
    "        print('colunm',j,\"cell\",cell)"
   ]
  },
  {
   "cell_type": "code",
   "execution_count": 31,
   "id": "d5c6e29d-4aa0-49d7-9fc8-14f24145c643",
   "metadata": {
    "scrolled": true
   },
   "outputs": [
    {
     "data": {
      "text/plain": [
       "[<tr><td id=\"flight\">Flight No</td><td>Launch site</td><td>Payload mass</td></tr>,\n",
       " <td id=\"flight\">Flight No</td>,\n",
       " <td>Launch site</td>,\n",
       " <td>Payload mass</td>,\n",
       " <tr><td>1</td><td><a href=\"https://en.wikipedia.org/wiki/Florida\">Florida</a></td><td>300 kg</td></tr>,\n",
       " <td>1</td>,\n",
       " <td><a href=\"https://en.wikipedia.org/wiki/Florida\">Florida</a></td>,\n",
       " <td>300 kg</td>,\n",
       " <tr><td>2</td><td><a href=\"https://en.wikipedia.org/wiki/Texas\">Texas</a></td><td>94 kg</td></tr>,\n",
       " <td>2</td>,\n",
       " <td><a href=\"https://en.wikipedia.org/wiki/Texas\">Texas</a></td>,\n",
       " <td>94 kg</td>,\n",
       " <tr><td>3</td><td><a href=\"https://en.wikipedia.org/wiki/Florida\">Florida</a> </td><td>80 kg</td></tr>,\n",
       " <td>3</td>,\n",
       " <td><a href=\"https://en.wikipedia.org/wiki/Florida\">Florida</a> </td>,\n",
       " <td>80 kg</td>]"
      ]
     },
     "execution_count": 31,
     "metadata": {},
     "output_type": "execute_result"
    }
   ],
   "source": [
    "list_input = table_bs.find_all(name=[\"tr\",\"td\"])\n",
    "list_input"
   ]
  },
  {
   "cell_type": "markdown",
   "id": "63ba8531-7884-461b-bbb5-48c7174acb62",
   "metadata": {},
   "source": [
    "## Attributes"
   ]
  },
  {
   "cell_type": "code",
   "execution_count": 32,
   "id": "c14ebc93-490d-49df-837c-c0626d14eb87",
   "metadata": {},
   "outputs": [
    {
     "data": {
      "text/plain": [
       "[<td id=\"flight\">Flight No</td>]"
      ]
     },
     "execution_count": 32,
     "metadata": {},
     "output_type": "execute_result"
    }
   ],
   "source": [
    "table_bs.find_all(id=\"flight\")"
   ]
  },
  {
   "cell_type": "code",
   "execution_count": 33,
   "id": "f47ce91e-3410-4957-bcb2-35593ac16f40",
   "metadata": {},
   "outputs": [
    {
     "data": {
      "text/plain": [
       "[<a href=\"https://en.wikipedia.org/wiki/Florida\">Florida</a>,\n",
       " <a href=\"https://en.wikipedia.org/wiki/Florida\">Florida</a>]"
      ]
     },
     "execution_count": 33,
     "metadata": {},
     "output_type": "execute_result"
    }
   ],
   "source": [
    "list_input = table_bs.find_all(href=\"https://en.wikipedia.org/wiki/Florida\")\n",
    "list_input"
   ]
  },
  {
   "cell_type": "code",
   "execution_count": 34,
   "id": "263bfcee-e7e2-4096-ae84-fa34014253ac",
   "metadata": {},
   "outputs": [
    {
     "data": {
      "text/plain": [
       "[<a href=\"https://en.wikipedia.org/wiki/Florida\">Florida</a>,\n",
       " <a href=\"https://en.wikipedia.org/wiki/Texas\">Texas</a>,\n",
       " <a href=\"https://en.wikipedia.org/wiki/Florida\">Florida</a>]"
      ]
     },
     "execution_count": 34,
     "metadata": {},
     "output_type": "execute_result"
    }
   ],
   "source": [
    "table_bs.find_all(href=True)"
   ]
  },
  {
   "cell_type": "code",
   "execution_count": 35,
   "id": "16ffed2a-4e73-42fd-b398-34d3f733829a",
   "metadata": {},
   "outputs": [
    {
     "data": {
      "text/plain": [
       "[<a href=\"https://en.wikipedia.org/wiki/Florida\">Florida</a>,\n",
       " <a href=\"https://en.wikipedia.org/wiki/Texas\">Texas</a>,\n",
       " <a href=\"https://en.wikipedia.org/wiki/Florida\">Florida</a>]"
      ]
     },
     "execution_count": 35,
     "metadata": {},
     "output_type": "execute_result"
    }
   ],
   "source": [
    "table_bs.find_all('a', href=True)"
   ]
  },
  {
   "cell_type": "code",
   "execution_count": 36,
   "id": "e7ff0975-31b9-40af-aa37-20c4ef49dd81",
   "metadata": {},
   "outputs": [
    {
     "data": {
      "text/plain": [
       "[<b id=\"boldest\">Lebron James</b>]"
      ]
     },
     "execution_count": 36,
     "metadata": {},
     "output_type": "execute_result"
    }
   ],
   "source": [
    "soup.find_all(id=\"boldest\")"
   ]
  },
  {
   "cell_type": "markdown",
   "id": "e4b6fa33-9a35-4f57-96e3-ea8208d8b211",
   "metadata": {},
   "source": [
    "### string"
   ]
  },
  {
   "cell_type": "code",
   "execution_count": 37,
   "id": "8044de04-c937-4b0c-9d1c-3fd96d673be4",
   "metadata": {},
   "outputs": [
    {
     "data": {
      "text/plain": [
       "['Florida', 'Florida']"
      ]
     },
     "execution_count": 37,
     "metadata": {},
     "output_type": "execute_result"
    }
   ],
   "source": [
    "table_bs.find_all(string=\"Florida\")"
   ]
  },
  {
   "cell_type": "markdown",
   "id": "6e221797-98cb-4219-9b78-e8b6c374a1e4",
   "metadata": {},
   "source": [
    "### find"
   ]
  },
  {
   "cell_type": "code",
   "execution_count": 38,
   "id": "2f877b88-0c5c-4fd1-b859-cbd5031e5444",
   "metadata": {},
   "outputs": [
    {
     "data": {
      "text/html": [
       "<h3>Rocket Launch </h3>\n",
       "\n",
       "<p>\n",
       "<table class='rocket'>\n",
       "  <tr>\n",
       "    <td>Flight No</td>\n",
       "    <td>Launch site</td> \n",
       "    <td>Payload mass</td>\n",
       "  </tr>\n",
       "  <tr>\n",
       "    <td>1</td>\n",
       "    <td>Florida</td>\n",
       "    <td>300 kg</td>\n",
       "  </tr>\n",
       "  <tr>\n",
       "    <td>2</td>\n",
       "    <td>Texas</td>\n",
       "    <td>94 kg</td>\n",
       "  </tr>\n",
       "  <tr>\n",
       "    <td>3</td>\n",
       "    <td>Florida </td>\n",
       "    <td>80 kg</td>\n",
       "  </tr>\n",
       "</table>\n",
       "</p>\n",
       "<p>\n",
       "\n",
       "<h3>Pizza Party  </h3>\n",
       "  \n",
       "    \n",
       "<table class='pizza'>\n",
       "  <tr>\n",
       "    <td>Pizza Place</td>\n",
       "    <td>Orders</td> \n",
       "    <td>Slices </td>\n",
       "   </tr>\n",
       "  <tr>\n",
       "    <td>Domino's Pizza</td>\n",
       "    <td>10</td>\n",
       "    <td>100</td>\n",
       "  </tr>\n",
       "  <tr>\n",
       "    <td>Little Caesars</td>\n",
       "    <td>12</td>\n",
       "    <td >144 </td>\n",
       "  </tr>\n",
       "  <tr>\n",
       "    <td>Papa John's </td>\n",
       "    <td>15 </td>\n",
       "    <td>165</td>\n",
       "  </tr>\n"
      ],
      "text/plain": [
       "<IPython.core.display.HTML object>"
      ]
     },
     "metadata": {},
     "output_type": "display_data"
    }
   ],
   "source": [
    "%%html\n",
    "<h3>Rocket Launch </h3>\n",
    "\n",
    "<p>\n",
    "<table class='rocket'>\n",
    "  <tr>\n",
    "    <td>Flight No</td>\n",
    "    <td>Launch site</td> \n",
    "    <td>Payload mass</td>\n",
    "  </tr>\n",
    "  <tr>\n",
    "    <td>1</td>\n",
    "    <td>Florida</td>\n",
    "    <td>300 kg</td>\n",
    "  </tr>\n",
    "  <tr>\n",
    "    <td>2</td>\n",
    "    <td>Texas</td>\n",
    "    <td>94 kg</td>\n",
    "  </tr>\n",
    "  <tr>\n",
    "    <td>3</td>\n",
    "    <td>Florida </td>\n",
    "    <td>80 kg</td>\n",
    "  </tr>\n",
    "</table>\n",
    "</p>\n",
    "<p>\n",
    "\n",
    "<h3>Pizza Party  </h3>\n",
    "  \n",
    "    \n",
    "<table class='pizza'>\n",
    "  <tr>\n",
    "    <td>Pizza Place</td>\n",
    "    <td>Orders</td> \n",
    "    <td>Slices </td>\n",
    "   </tr>\n",
    "  <tr>\n",
    "    <td>Domino's Pizza</td>\n",
    "    <td>10</td>\n",
    "    <td>100</td>\n",
    "  </tr>\n",
    "  <tr>\n",
    "    <td>Little Caesars</td>\n",
    "    <td>12</td>\n",
    "    <td >144 </td>\n",
    "  </tr>\n",
    "  <tr>\n",
    "    <td>Papa John's </td>\n",
    "    <td>15 </td>\n",
    "    <td>165</td>\n",
    "  </tr>\n"
   ]
  },
  {
   "cell_type": "code",
   "execution_count": 39,
   "id": "a3a17d0e-3ae4-41b2-a877-a3a5660e6a2c",
   "metadata": {},
   "outputs": [],
   "source": [
    "two_tables=\"<h3>Rocket Launch </h3><p><table class='rocket'><tr><td>Flight No</td><td>Launch site</td> <td>Payload mass</td></tr><tr><td>1</td><td>Florida</td><td>300 kg</td></tr><tr><td>2</td><td>Texas</td><td>94 kg</td></tr><tr><td>3</td><td>Florida </td><td>80 kg</td></tr></table></p><p><h3>Pizza Party  </h3><table class='pizza'><tr><td>Pizza Place</td><td>Orders</td> <td>Slices </td></tr><tr><td>Domino's Pizza</td><td>10</td><td>100</td></tr><tr><td>Little Caesars</td><td>12</td><td >144 </td></tr><tr><td>Papa John's </td><td>15 </td><td>165</td></tr>\""
   ]
  },
  {
   "cell_type": "code",
   "execution_count": 40,
   "id": "34b03588-0f50-49b0-9740-39c909e476b4",
   "metadata": {},
   "outputs": [],
   "source": [
    "two_tables_bs= BeautifulSoup(two_tables, 'html.parser')"
   ]
  },
  {
   "cell_type": "code",
   "execution_count": 41,
   "id": "ca631bcc-0379-4c4b-bc8b-80a8cec83d03",
   "metadata": {},
   "outputs": [
    {
     "data": {
      "text/plain": [
       "<table class=\"rocket\"><tr><td>Flight No</td><td>Launch site</td> <td>Payload mass</td></tr><tr><td>1</td><td>Florida</td><td>300 kg</td></tr><tr><td>2</td><td>Texas</td><td>94 kg</td></tr><tr><td>3</td><td>Florida </td><td>80 kg</td></tr></table>"
      ]
     },
     "execution_count": 41,
     "metadata": {},
     "output_type": "execute_result"
    }
   ],
   "source": [
    "two_tables_bs.find(\"table\")"
   ]
  },
  {
   "cell_type": "code",
   "execution_count": 42,
   "id": "9c25135b-392c-454e-830f-cb0b8daa241d",
   "metadata": {},
   "outputs": [
    {
     "data": {
      "text/plain": [
       "<table class=\"pizza\"><tr><td>Pizza Place</td><td>Orders</td> <td>Slices </td></tr><tr><td>Domino's Pizza</td><td>10</td><td>100</td></tr><tr><td>Little Caesars</td><td>12</td><td>144 </td></tr><tr><td>Papa John's </td><td>15 </td><td>165</td></tr></table>"
      ]
     },
     "execution_count": 42,
     "metadata": {},
     "output_type": "execute_result"
    }
   ],
   "source": [
    "two_tables_bs.find(\"table\",class_='pizza')"
   ]
  },
  {
   "cell_type": "markdown",
   "id": "f4772491-cfbe-481c-8164-94124fd30486",
   "metadata": {},
   "source": [
    "## Downloading And Scraping The Contents Of A Web Page"
   ]
  },
  {
   "cell_type": "code",
   "execution_count": 43,
   "id": "b712615c-4d01-483a-8c3a-6990acc4bbaf",
   "metadata": {},
   "outputs": [],
   "source": [
    "url = \"https://web.archive.org/web/20230224123642/https://www.ibm.com/us-en/\""
   ]
  },
  {
   "cell_type": "code",
   "execution_count": 44,
   "id": "baa06780-033a-4d02-9145-965352148716",
   "metadata": {},
   "outputs": [],
   "source": [
    "data  = requests.get(url).text "
   ]
  },
  {
   "cell_type": "code",
   "execution_count": 45,
   "id": "2a23c73c-9f2a-472d-8b4d-a3568bdb3c53",
   "metadata": {},
   "outputs": [],
   "source": [
    "soup = BeautifulSoup(data,\"html.parser\")  # create a soup object using the variable 'data'"
   ]
  },
  {
   "cell_type": "code",
   "execution_count": 46,
   "id": "deec29c2-3597-46d6-87d4-bf3c74215027",
   "metadata": {},
   "outputs": [
    {
     "name": "stdout",
     "output_type": "stream",
     "text": [
      "https://web.archive.org/web/20230224123642/https://www.ibm.com/reports/threat-intelligence/\n",
      "https://web.archive.org/web/20230224123642/https://www.ibm.com/about\n",
      "https://web.archive.org/web/20230224123642/https://www.ibm.com/consulting/?lnk=flathl\n",
      "https://web.archive.org/web/20230224123642/https://www.ibm.com/consulting/strategy/?lnk=flathl\n",
      "https://web.archive.org/web/20230224123642/https://www.ibm.com/consulting/ibmix?lnk=flathl\n",
      "https://web.archive.org/web/20230224123642/https://www.ibm.com/consulting/technology/\n",
      "https://web.archive.org/web/20230224123642/https://www.ibm.com/consulting/operations/?lnk=flathl\n",
      "https://web.archive.org/web/20230224123642/https://www.ibm.com/strategic-partnerships\n",
      "https://web.archive.org/web/20230224123642/https://www.ibm.com/employment/?lnk=flatitem\n",
      "https://web.archive.org/web/20230224123642/https://www.ibm.com/impact\n",
      "https://web.archive.org/web/20230224123642/https://research.ibm.com/\n",
      "https://web.archive.org/web/20230224123642/https://www.ibm.com/\n"
     ]
    }
   ],
   "source": [
    "for link in soup.find_all('a',href=True):  # in html anchor/link is represented by the tag <a>\n",
    "\n",
    "    print(link.get('href'))\n"
   ]
  },
  {
   "cell_type": "markdown",
   "id": "696c0850-7a68-4ebc-bd2a-c928724c6063",
   "metadata": {},
   "source": [
    "## Scrape all images Tags"
   ]
  },
  {
   "cell_type": "code",
   "execution_count": 47,
   "id": "eab3c1dc-fd43-4c77-b4f4-4ace47466962",
   "metadata": {
    "scrolled": true
   },
   "outputs": [
    {
     "name": "stdout",
     "output_type": "stream",
     "text": [
      "<img alt=\"Person standing with arms crossed\" aria-describedby=\"bx--image-1\" class=\"bx--image__img\" src=\"https://web.archive.org/web/20230224123642im_/https://1.dam.s81c.com/p/0a23e414312bcb6f/08196d0e04260ae5_cropped.jpg.global.sr_16x9.jpg\"/>\n",
      "https://web.archive.org/web/20230224123642im_/https://1.dam.s81c.com/p/0a23e414312bcb6f/08196d0e04260ae5_cropped.jpg.global.sr_16x9.jpg\n",
      "<img alt=\"Team members at work in a conference room\" aria-describedby=\"bx--image-2\" class=\"bx--image__img\" src=\"https://web.archive.org/web/20230224123642im_/https://1.dam.s81c.com/p/06655c075aa3aa29/CaitOppermann_2019_12_06_IBMGarage_DSC3304.jpg.global.m_16x9.jpg\"/>\n",
      "https://web.archive.org/web/20230224123642im_/https://1.dam.s81c.com/p/06655c075aa3aa29/CaitOppermann_2019_12_06_IBMGarage_DSC3304.jpg.global.m_16x9.jpg\n",
      "<img alt=\"Coworkers looking at laptops\" aria-describedby=\"bx--image-3\" class=\"bx--image__img\" src=\"https://web.archive.org/web/20230224123642im_/https://1.dam.s81c.com/p/08f951353c2707b8/052022_CaitOppermann_InsideIBM_London_2945_03.jpg.global.sr_16x9.jpg\"/>\n",
      "https://web.archive.org/web/20230224123642im_/https://1.dam.s81c.com/p/08f951353c2707b8/052022_CaitOppermann_InsideIBM_London_2945_03.jpg.global.sr_16x9.jpg\n",
      "<img alt=\"Cloud developer with red sweater coding at desk\" aria-describedby=\"bx--image-4\" class=\"bx--image__img\" src=\"https://web.archive.org/web/20230224123642im_/https://1.dam.s81c.com/p/064e0139f5a3aa5e/0500002_Lowell_LI_100119.jpg.global.sr_16x9.jpg\"/>\n",
      "https://web.archive.org/web/20230224123642im_/https://1.dam.s81c.com/p/064e0139f5a3aa5e/0500002_Lowell_LI_100119.jpg.global.sr_16x9.jpg\n",
      "<img alt=\"Aerial view of automated conveyer belt and machinery at work\" aria-describedby=\"bx--image-5\" class=\"bx--image__img\" src=\"https://web.archive.org/web/20230224123642im_/https://1.dam.s81c.com/p/0795cae91a25156f/conveyorrobottopview.jpg.global.sr_16x9.jpg\"/>\n",
      "https://web.archive.org/web/20230224123642im_/https://1.dam.s81c.com/p/0795cae91a25156f/conveyorrobottopview.jpg.global.sr_16x9.jpg\n",
      "<img alt=\"Overhead view of partners collaborating on design with laptops and coffee\" aria-describedby=\"bx--image-6\" class=\"bx--image__img\" src=\"https://web.archive.org/web/20230224123642im_/https://1.dam.s81c.com/p/06dfa9ccdba4ec79/1f417900-9042-44d1-9c219a854bbb62ea.jpg.global.sr_16x9.jpg\"/>\n",
      "https://web.archive.org/web/20230224123642im_/https://1.dam.s81c.com/p/06dfa9ccdba4ec79/1f417900-9042-44d1-9c219a854bbb62ea.jpg.global.sr_16x9.jpg\n"
     ]
    }
   ],
   "source": [
    "for link in soup.find_all('img'):# in html image is represented by the tag <img>\n",
    "    print(link)\n",
    "    print(link.get('src'))"
   ]
  },
  {
   "cell_type": "markdown",
   "id": "9a5e826b-bc37-4dd8-9dc5-04d788043688",
   "metadata": {},
   "source": [
    "## Scrape data from HTML tables"
   ]
  },
  {
   "cell_type": "code",
   "execution_count": 48,
   "id": "1a6c3b0d-3f3f-431d-ba17-33fe80cb6925",
   "metadata": {},
   "outputs": [],
   "source": [
    "url = \"https://cf-courses-data.s3.us.cloud-object-storage.appdomain.cloud/IBM-DA0321EN-SkillsNetwork/labs/datasets/HTMLColorCodes.html\""
   ]
  },
  {
   "cell_type": "code",
   "execution_count": 49,
   "id": "0d55e9fc-055f-4670-b148-e86d09e22d7a",
   "metadata": {},
   "outputs": [],
   "source": [
    "data  = requests.get(url).text"
   ]
  },
  {
   "cell_type": "code",
   "execution_count": 50,
   "id": "fbcf069d-61fb-4249-8183-cd182a48b7fd",
   "metadata": {},
   "outputs": [],
   "source": [
    "soup = BeautifulSoup(data,\"html.parser\")"
   ]
  },
  {
   "cell_type": "code",
   "execution_count": 51,
   "id": "46f5ab61-0b4b-47f0-bc4b-2f909b77eda2",
   "metadata": {},
   "outputs": [],
   "source": [
    "table = soup.find('table')"
   ]
  },
  {
   "cell_type": "code",
   "execution_count": 52,
   "id": "3b4a36cc-d5e0-4e8c-bfcc-fc12da2dd892",
   "metadata": {
    "scrolled": true
   },
   "outputs": [
    {
     "name": "stdout",
     "output_type": "stream",
     "text": [
      "Color Name--->None\n",
      "lightsalmon--->#FFA07A\n",
      "salmon--->#FA8072\n",
      "darksalmon--->#E9967A\n",
      "lightcoral--->#F08080\n",
      "coral--->#FF7F50\n",
      "tomato--->#FF6347\n",
      "orangered--->#FF4500\n",
      "gold--->#FFD700\n",
      "orange--->#FFA500\n",
      "darkorange--->#FF8C00\n",
      "lightyellow--->#FFFFE0\n",
      "lemonchiffon--->#FFFACD\n",
      "papayawhip--->#FFEFD5\n",
      "moccasin--->#FFE4B5\n",
      "peachpuff--->#FFDAB9\n",
      "palegoldenrod--->#EEE8AA\n",
      "khaki--->#F0E68C\n",
      "darkkhaki--->#BDB76B\n",
      "yellow--->#FFFF00\n",
      "lawngreen--->#7CFC00\n",
      "chartreuse--->#7FFF00\n",
      "limegreen--->#32CD32\n",
      "lime--->#00FF00\n",
      "forestgreen--->#228B22\n",
      "green--->#008000\n",
      "powderblue--->#B0E0E6\n",
      "lightblue--->#ADD8E6\n",
      "lightskyblue--->#87CEFA\n",
      "skyblue--->#87CEEB\n",
      "deepskyblue--->#00BFFF\n",
      "lightsteelblue--->#B0C4DE\n",
      "dodgerblue--->#1E90FF\n"
     ]
    }
   ],
   "source": [
    "for row in table.find_all('tr'):\n",
    "    cols = row.find_all('td')\n",
    "    color_name = cols[2].string\n",
    "    color_code = cols[3].string\n",
    "    print(\"{}--->{}\".format(color_name,color_code))"
   ]
  },
  {
   "cell_type": "markdown",
   "id": "2ed9294c-9867-44f3-ab69-9e11c4ae590b",
   "metadata": {},
   "source": [
    "## Scrape data from HTML tables into a DataFrame using BeautifulSoup and Pandas"
   ]
  },
  {
   "cell_type": "code",
   "execution_count": 53,
   "id": "c1b44ab4-24bd-4241-ab5c-f016e2cc0e87",
   "metadata": {},
   "outputs": [],
   "source": [
    "import pandas as pd"
   ]
  },
  {
   "cell_type": "code",
   "execution_count": 54,
   "id": "b3544c35-cc71-495a-b7da-318a3d918564",
   "metadata": {},
   "outputs": [],
   "source": [
    "url = \"https://en.wikipedia.org/wiki/World_population\""
   ]
  },
  {
   "cell_type": "code",
   "execution_count": 55,
   "id": "cabf2c66-6178-4b4b-8f64-f9567182d373",
   "metadata": {},
   "outputs": [],
   "source": [
    "data  = requests.get(url).text"
   ]
  },
  {
   "cell_type": "code",
   "execution_count": 56,
   "id": "c70e9227-4bef-4c7e-aab2-1740b9429cac",
   "metadata": {},
   "outputs": [],
   "source": [
    "soup = BeautifulSoup(data,\"html.parser\")"
   ]
  },
  {
   "cell_type": "code",
   "execution_count": 57,
   "id": "957dd50d-65ef-483d-bc18-9432d0186be7",
   "metadata": {},
   "outputs": [],
   "source": [
    "tables = soup.find_all('table') # in html table is represented by the tag <table>"
   ]
  },
  {
   "cell_type": "code",
   "execution_count": 58,
   "id": "942410f7-efd1-4704-ab95-548226cd8d49",
   "metadata": {},
   "outputs": [
    {
     "data": {
      "text/plain": [
       "31"
      ]
     },
     "execution_count": 58,
     "metadata": {},
     "output_type": "execute_result"
    }
   ],
   "source": [
    "len(tables)"
   ]
  },
  {
   "cell_type": "code",
   "execution_count": 59,
   "id": "80de1207-82d0-4871-8efc-07c4828edb8e",
   "metadata": {},
   "outputs": [
    {
     "name": "stdout",
     "output_type": "stream",
     "text": [
      "8\n"
     ]
    }
   ],
   "source": [
    "for index,table in enumerate(tables):\n",
    "    if (\"10 most densely populated countries\" in str(table)):\n",
    "        table_index = index\n",
    "print(table_index)"
   ]
  },
  {
   "cell_type": "code",
   "execution_count": 60,
   "id": "647cdca9-aef7-4843-a8ac-47dc358c3325",
   "metadata": {
    "scrolled": true
   },
   "outputs": [
    {
     "name": "stdout",
     "output_type": "stream",
     "text": [
      "<table class=\"wikitable sortable\" style=\"text-align:right\">\n",
      " <caption>\n",
      "  10 most densely populated countries\n",
      "  <small>\n",
      "   (with population above 5 million)\n",
      "  </small>\n",
      "  <sup class=\"reference\" id=\"cite_ref-:10_104-0\">\n",
      "   <a href=\"#cite_note-:10-104\">\n",
      "    <span class=\"cite-bracket\">\n",
      "     [\n",
      "    </span>\n",
      "    99\n",
      "    <span class=\"cite-bracket\">\n",
      "     ]\n",
      "    </span>\n",
      "   </a>\n",
      "  </sup>\n",
      " </caption>\n",
      " <tbody>\n",
      "  <tr>\n",
      "   <th scope=\"col\">\n",
      "    Rank\n",
      "   </th>\n",
      "   <th scope=\"col\">\n",
      "    Country\n",
      "   </th>\n",
      "   <th scope=\"col\">\n",
      "    Population\n",
      "   </th>\n",
      "   <th scope=\"col\">\n",
      "    Area\n",
      "    <br/>\n",
      "    <small>\n",
      "     (km\n",
      "     <sup>\n",
      "      2\n",
      "     </sup>\n",
      "     )\n",
      "    </small>\n",
      "   </th>\n",
      "   <th scope=\"col\">\n",
      "    Density\n",
      "    <br/>\n",
      "    <small>\n",
      "     (pop/km\n",
      "     <sup>\n",
      "      2\n",
      "     </sup>\n",
      "     )\n",
      "    </small>\n",
      "   </th>\n",
      "  </tr>\n",
      "  <tr>\n",
      "   <td>\n",
      "    1\n",
      "   </td>\n",
      "   <td align=\"left\">\n",
      "    <span class=\"flagicon\">\n",
      "     <span class=\"mw-image-border\" typeof=\"mw:File\">\n",
      "      <span>\n",
      "       <img alt=\"\" class=\"mw-file-element\" data-file-height=\"600\" data-file-width=\"900\" decoding=\"async\" height=\"15\" src=\"//upload.wikimedia.org/wikipedia/commons/thumb/4/48/Flag_of_Singapore.svg/23px-Flag_of_Singapore.svg.png\" srcset=\"//upload.wikimedia.org/wikipedia/commons/thumb/4/48/Flag_of_Singapore.svg/35px-Flag_of_Singapore.svg.png 1.5x, //upload.wikimedia.org/wikipedia/commons/thumb/4/48/Flag_of_Singapore.svg/45px-Flag_of_Singapore.svg.png 2x\" width=\"23\"/>\n",
      "      </span>\n",
      "     </span>\n",
      "    </span>\n",
      "    <a href=\"/wiki/Singapore\" title=\"Singapore\">\n",
      "     Singapore\n",
      "    </a>\n",
      "   </td>\n",
      "   <td>\n",
      "    5,921,231\n",
      "   </td>\n",
      "   <td>\n",
      "    719\n",
      "   </td>\n",
      "   <td>\n",
      "    8,235\n",
      "   </td>\n",
      "  </tr>\n",
      "  <tr>\n",
      "   <td>\n",
      "    2\n",
      "   </td>\n",
      "   <td align=\"left\">\n",
      "    <span class=\"flagicon\">\n",
      "     <span class=\"mw-image-border\" typeof=\"mw:File\">\n",
      "      <span>\n",
      "       <img alt=\"\" class=\"mw-file-element\" data-file-height=\"600\" data-file-width=\"1000\" decoding=\"async\" height=\"14\" src=\"//upload.wikimedia.org/wikipedia/commons/thumb/f/f9/Flag_of_Bangladesh.svg/23px-Flag_of_Bangladesh.svg.png\" srcset=\"//upload.wikimedia.org/wikipedia/commons/thumb/f/f9/Flag_of_Bangladesh.svg/35px-Flag_of_Bangladesh.svg.png 1.5x, //upload.wikimedia.org/wikipedia/commons/thumb/f/f9/Flag_of_Bangladesh.svg/46px-Flag_of_Bangladesh.svg.png 2x\" width=\"23\"/>\n",
      "      </span>\n",
      "     </span>\n",
      "    </span>\n",
      "    <a href=\"/wiki/Bangladesh\" title=\"Bangladesh\">\n",
      "     Bangladesh\n",
      "    </a>\n",
      "   </td>\n",
      "   <td>\n",
      "    165,650,475\n",
      "   </td>\n",
      "   <td>\n",
      "    148,460\n",
      "   </td>\n",
      "   <td>\n",
      "    1,116\n",
      "   </td>\n",
      "  </tr>\n",
      "  <tr>\n",
      "   <td>\n",
      "    3\n",
      "   </td>\n",
      "   <td align=\"left\">\n",
      "    <p>\n",
      "     <span class=\"flagicon\">\n",
      "      <span class=\"mw-image-border\" typeof=\"mw:File\">\n",
      "       <span>\n",
      "        <img alt=\"\" class=\"mw-file-element\" data-file-height=\"600\" data-file-width=\"1200\" decoding=\"async\" height=\"12\" src=\"//upload.wikimedia.org/wikipedia/commons/thumb/0/00/Flag_of_Palestine.svg/23px-Flag_of_Palestine.svg.png\" srcset=\"//upload.wikimedia.org/wikipedia/commons/thumb/0/00/Flag_of_Palestine.svg/35px-Flag_of_Palestine.svg.png 1.5x, //upload.wikimedia.org/wikipedia/commons/thumb/0/00/Flag_of_Palestine.svg/46px-Flag_of_Palestine.svg.png 2x\" width=\"23\"/>\n",
      "       </span>\n",
      "      </span>\n",
      "     </span>\n",
      "     <a href=\"/wiki/State_of_Palestine\" title=\"State of Palestine\">\n",
      "      Palestine\n",
      "     </a>\n",
      "     <sup class=\"reference\" id=\"cite_ref-105\">\n",
      "      <a href=\"#cite_note-105\">\n",
      "       <span class=\"cite-bracket\">\n",
      "        [\n",
      "       </span>\n",
      "       note 3\n",
      "       <span class=\"cite-bracket\">\n",
      "        ]\n",
      "       </span>\n",
      "      </a>\n",
      "     </sup>\n",
      "     <sup class=\"reference\" id=\"cite_ref-106\">\n",
      "      <a href=\"#cite_note-106\">\n",
      "       <span class=\"cite-bracket\">\n",
      "        [\n",
      "       </span>\n",
      "       100\n",
      "       <span class=\"cite-bracket\">\n",
      "        ]\n",
      "       </span>\n",
      "      </a>\n",
      "     </sup>\n",
      "    </p>\n",
      "   </td>\n",
      "   <td>\n",
      "    5,223,000\n",
      "   </td>\n",
      "   <td>\n",
      "    6,025\n",
      "   </td>\n",
      "   <td>\n",
      "    867\n",
      "   </td>\n",
      "  </tr>\n",
      "  <tr>\n",
      "   <td>\n",
      "    4\n",
      "   </td>\n",
      "   <td align=\"left\">\n",
      "    <span class=\"flagicon\">\n",
      "     <span class=\"mw-image-border\" typeof=\"mw:File\">\n",
      "      <span>\n",
      "       <img alt=\"\" class=\"mw-file-element\" data-file-height=\"600\" data-file-width=\"900\" decoding=\"async\" height=\"15\" src=\"//upload.wikimedia.org/wikipedia/commons/thumb/7/72/Flag_of_the_Republic_of_China.svg/23px-Flag_of_the_Republic_of_China.svg.png\" srcset=\"//upload.wikimedia.org/wikipedia/commons/thumb/7/72/Flag_of_the_Republic_of_China.svg/35px-Flag_of_the_Republic_of_China.svg.png 1.5x, //upload.wikimedia.org/wikipedia/commons/thumb/7/72/Flag_of_the_Republic_of_China.svg/45px-Flag_of_the_Republic_of_China.svg.png 2x\" width=\"23\"/>\n",
      "      </span>\n",
      "     </span>\n",
      "    </span>\n",
      "    <a href=\"/wiki/Taiwan\" title=\"Taiwan\">\n",
      "     Taiwan\n",
      "    </a>\n",
      "    <sup class=\"reference\" id=\"cite_ref-107\">\n",
      "     <a href=\"#cite_note-107\">\n",
      "      <span class=\"cite-bracket\">\n",
      "       [\n",
      "      </span>\n",
      "      note 4\n",
      "      <span class=\"cite-bracket\">\n",
      "       ]\n",
      "      </span>\n",
      "     </a>\n",
      "    </sup>\n",
      "   </td>\n",
      "   <td>\n",
      "    23,580,712\n",
      "   </td>\n",
      "   <td>\n",
      "    35,980\n",
      "   </td>\n",
      "   <td>\n",
      "    655\n",
      "   </td>\n",
      "  </tr>\n",
      "  <tr>\n",
      "   <td>\n",
      "    5\n",
      "   </td>\n",
      "   <td align=\"left\">\n",
      "    <span class=\"flagicon\">\n",
      "     <span class=\"mw-image-border\" typeof=\"mw:File\">\n",
      "      <span>\n",
      "       <img alt=\"\" class=\"mw-file-element\" data-file-height=\"600\" data-file-width=\"900\" decoding=\"async\" height=\"15\" src=\"//upload.wikimedia.org/wikipedia/commons/thumb/0/09/Flag_of_South_Korea.svg/23px-Flag_of_South_Korea.svg.png\" srcset=\"//upload.wikimedia.org/wikipedia/commons/thumb/0/09/Flag_of_South_Korea.svg/35px-Flag_of_South_Korea.svg.png 1.5x, //upload.wikimedia.org/wikipedia/commons/thumb/0/09/Flag_of_South_Korea.svg/45px-Flag_of_South_Korea.svg.png 2x\" width=\"23\"/>\n",
      "      </span>\n",
      "     </span>\n",
      "    </span>\n",
      "    <a href=\"/wiki/South_Korea\" title=\"South Korea\">\n",
      "     South Korea\n",
      "    </a>\n",
      "   </td>\n",
      "   <td>\n",
      "    51,844,834\n",
      "   </td>\n",
      "   <td>\n",
      "    99,720\n",
      "   </td>\n",
      "   <td>\n",
      "    520\n",
      "   </td>\n",
      "  </tr>\n",
      "  <tr>\n",
      "   <td>\n",
      "    6\n",
      "   </td>\n",
      "   <td align=\"left\">\n",
      "    <span class=\"flagicon\">\n",
      "     <span class=\"mw-image-border\" typeof=\"mw:File\">\n",
      "      <span>\n",
      "       <img alt=\"\" class=\"mw-file-element\" data-file-height=\"600\" data-file-width=\"900\" decoding=\"async\" height=\"15\" src=\"//upload.wikimedia.org/wikipedia/commons/thumb/5/59/Flag_of_Lebanon.svg/23px-Flag_of_Lebanon.svg.png\" srcset=\"//upload.wikimedia.org/wikipedia/commons/thumb/5/59/Flag_of_Lebanon.svg/35px-Flag_of_Lebanon.svg.png 1.5x, //upload.wikimedia.org/wikipedia/commons/thumb/5/59/Flag_of_Lebanon.svg/45px-Flag_of_Lebanon.svg.png 2x\" width=\"23\"/>\n",
      "      </span>\n",
      "     </span>\n",
      "    </span>\n",
      "    <a href=\"/wiki/Lebanon\" title=\"Lebanon\">\n",
      "     Lebanon\n",
      "    </a>\n",
      "   </td>\n",
      "   <td>\n",
      "    5,296,814\n",
      "   </td>\n",
      "   <td>\n",
      "    10,400\n",
      "   </td>\n",
      "   <td>\n",
      "    509\n",
      "   </td>\n",
      "  </tr>\n",
      "  <tr>\n",
      "   <td>\n",
      "    7\n",
      "   </td>\n",
      "   <td align=\"left\">\n",
      "    <span class=\"flagicon\">\n",
      "     <span class=\"mw-image-border\" typeof=\"mw:File\">\n",
      "      <span>\n",
      "       <img alt=\"\" class=\"mw-file-element\" data-file-height=\"600\" data-file-width=\"900\" decoding=\"async\" height=\"15\" src=\"//upload.wikimedia.org/wikipedia/commons/thumb/1/17/Flag_of_Rwanda.svg/23px-Flag_of_Rwanda.svg.png\" srcset=\"//upload.wikimedia.org/wikipedia/commons/thumb/1/17/Flag_of_Rwanda.svg/35px-Flag_of_Rwanda.svg.png 1.5x, //upload.wikimedia.org/wikipedia/commons/thumb/1/17/Flag_of_Rwanda.svg/45px-Flag_of_Rwanda.svg.png 2x\" width=\"23\"/>\n",
      "      </span>\n",
      "     </span>\n",
      "    </span>\n",
      "    <a href=\"/wiki/Rwanda\" title=\"Rwanda\">\n",
      "     Rwanda\n",
      "    </a>\n",
      "   </td>\n",
      "   <td>\n",
      "    13,173,730\n",
      "   </td>\n",
      "   <td>\n",
      "    26,338\n",
      "   </td>\n",
      "   <td>\n",
      "    500\n",
      "   </td>\n",
      "  </tr>\n",
      "  <tr>\n",
      "   <td>\n",
      "    8\n",
      "   </td>\n",
      "   <td align=\"left\">\n",
      "    <span class=\"flagicon\">\n",
      "     <span class=\"mw-image-border\" typeof=\"mw:File\">\n",
      "      <span>\n",
      "       <img alt=\"\" class=\"mw-file-element\" data-file-height=\"600\" data-file-width=\"1000\" decoding=\"async\" height=\"14\" src=\"//upload.wikimedia.org/wikipedia/commons/thumb/5/50/Flag_of_Burundi.svg/23px-Flag_of_Burundi.svg.png\" srcset=\"//upload.wikimedia.org/wikipedia/commons/thumb/5/50/Flag_of_Burundi.svg/35px-Flag_of_Burundi.svg.png 1.5x, //upload.wikimedia.org/wikipedia/commons/thumb/5/50/Flag_of_Burundi.svg/46px-Flag_of_Burundi.svg.png 2x\" width=\"23\"/>\n",
      "      </span>\n",
      "     </span>\n",
      "    </span>\n",
      "    <a href=\"/wiki/Burundi\" title=\"Burundi\">\n",
      "     Burundi\n",
      "    </a>\n",
      "   </td>\n",
      "   <td>\n",
      "    12,696,478\n",
      "   </td>\n",
      "   <td>\n",
      "    27,830\n",
      "   </td>\n",
      "   <td>\n",
      "    456\n",
      "   </td>\n",
      "  </tr>\n",
      "  <tr>\n",
      "   <td>\n",
      "    9\n",
      "   </td>\n",
      "   <td align=\"left\">\n",
      "    <span class=\"flagicon\">\n",
      "     <span class=\"mw-image-border\" typeof=\"mw:File\">\n",
      "      <span>\n",
      "       <img alt=\"\" class=\"mw-file-element\" data-file-height=\"800\" data-file-width=\"1100\" decoding=\"async\" height=\"15\" src=\"//upload.wikimedia.org/wikipedia/commons/thumb/d/d4/Flag_of_Israel.svg/21px-Flag_of_Israel.svg.png\" srcset=\"//upload.wikimedia.org/wikipedia/commons/thumb/d/d4/Flag_of_Israel.svg/32px-Flag_of_Israel.svg.png 1.5x, //upload.wikimedia.org/wikipedia/commons/thumb/d/d4/Flag_of_Israel.svg/41px-Flag_of_Israel.svg.png 2x\" width=\"21\"/>\n",
      "      </span>\n",
      "     </span>\n",
      "    </span>\n",
      "    <a href=\"/wiki/Israel\" title=\"Israel\">\n",
      "     Israel\n",
      "    </a>\n",
      "   </td>\n",
      "   <td>\n",
      "    9,402,617\n",
      "   </td>\n",
      "   <td>\n",
      "    21,937\n",
      "   </td>\n",
      "   <td>\n",
      "    429\n",
      "   </td>\n",
      "  </tr>\n",
      "  <tr>\n",
      "   <td>\n",
      "    10\n",
      "   </td>\n",
      "   <td align=\"left\">\n",
      "    <span class=\"flagicon\">\n",
      "     <span class=\"mw-image-border\" typeof=\"mw:File\">\n",
      "      <span>\n",
      "       <img alt=\"\" class=\"mw-file-element\" data-file-height=\"600\" data-file-width=\"900\" decoding=\"async\" height=\"15\" src=\"//upload.wikimedia.org/wikipedia/en/thumb/4/41/Flag_of_India.svg/23px-Flag_of_India.svg.png\" srcset=\"//upload.wikimedia.org/wikipedia/en/thumb/4/41/Flag_of_India.svg/35px-Flag_of_India.svg.png 1.5x, //upload.wikimedia.org/wikipedia/en/thumb/4/41/Flag_of_India.svg/45px-Flag_of_India.svg.png 2x\" width=\"23\"/>\n",
      "      </span>\n",
      "     </span>\n",
      "    </span>\n",
      "    <a href=\"/wiki/India\" title=\"India\">\n",
      "     India\n",
      "    </a>\n",
      "   </td>\n",
      "   <td>\n",
      "    1,389,637,446\n",
      "   </td>\n",
      "   <td>\n",
      "    3,287,263\n",
      "   </td>\n",
      "   <td>\n",
      "    423\n",
      "   </td>\n",
      "  </tr>\n",
      " </tbody>\n",
      "</table>\n",
      "\n"
     ]
    }
   ],
   "source": [
    "print(tables[table_index].prettify())"
   ]
  },
  {
   "cell_type": "code",
   "execution_count": 61,
   "id": "0f8087ad-8912-46f0-a639-82461b9bc9be",
   "metadata": {},
   "outputs": [
    {
     "ename": "NameError",
     "evalue": "name 'rank' is not defined",
     "output_type": "error",
     "traceback": [
      "\u001b[1;31m---------------------------------------------------------------------------\u001b[0m",
      "\u001b[1;31mNameError\u001b[0m                                 Traceback (most recent call last)",
      "Cell \u001b[1;32mIn[61], line 1\u001b[0m\n\u001b[1;32m----> 1\u001b[0m new_row \u001b[38;5;241m=\u001b[39m pd\u001b[38;5;241m.\u001b[39mDataFrame([{\u001b[38;5;124m\"\u001b[39m\u001b[38;5;124mRank\u001b[39m\u001b[38;5;124m\"\u001b[39m: rank, \u001b[38;5;124m\"\u001b[39m\u001b[38;5;124mCountry\u001b[39m\u001b[38;5;124m\"\u001b[39m: country, \u001b[38;5;124m\"\u001b[39m\u001b[38;5;124mPopulation\u001b[39m\u001b[38;5;124m\"\u001b[39m: population, \u001b[38;5;124m\"\u001b[39m\u001b[38;5;124mArea\u001b[39m\u001b[38;5;124m\"\u001b[39m: area, \u001b[38;5;124m\"\u001b[39m\u001b[38;5;124mDensity\u001b[39m\u001b[38;5;124m\"\u001b[39m: density}])\n\u001b[0;32m      2\u001b[0m population_data \u001b[38;5;241m=\u001b[39m pd\u001b[38;5;241m.\u001b[39mconcat([population_data, new_row], ignore_index\u001b[38;5;241m=\u001b[39m\u001b[38;5;28;01mTrue\u001b[39;00m)\n",
      "\u001b[1;31mNameError\u001b[0m: name 'rank' is not defined"
     ]
    }
   ],
   "source": [
    "new_row = pd.DataFrame([{\"Rank\": rank, \"Country\": country, \"Population\": population, \"Area\": area, \"Density\": density}])\n",
    "population_data = pd.concat([population_data, new_row], ignore_index=True)"
   ]
  },
  {
   "cell_type": "code",
   "execution_count": null,
   "id": "a8debc87-139c-4333-a225-62026d4bd1ed",
   "metadata": {},
   "outputs": [],
   "source": [
    "population_data"
   ]
  },
  {
   "cell_type": "markdown",
   "id": "aa755abf-dece-489a-8f53-0fbdcf1e6466",
   "metadata": {},
   "source": [
    "## Scrape data from HTML tables into a DataFrame using BeautifulSoup and read_html"
   ]
  },
  {
   "cell_type": "code",
   "execution_count": null,
   "id": "6fd17d21-091c-45db-a3cf-db8f0f7bd130",
   "metadata": {},
   "outputs": [],
   "source": [
    "pd.read_html(str(tables[5]), flavor='bs4')"
   ]
  },
  {
   "cell_type": "code",
   "execution_count": null,
   "id": "4332cc3e-1132-4b02-9dac-3103f5b0e49d",
   "metadata": {},
   "outputs": [],
   "source": [
    "population_data_read_html = pd.read_html(str(tables[5]), flavor='bs4')[0]\n",
    "\n",
    "population_data_read_html"
   ]
  },
  {
   "cell_type": "markdown",
   "id": "2cc4fead-e93d-4097-9925-86b185a14979",
   "metadata": {},
   "source": [
    "## Scrape data from HTML tables into a DataFrame using read_html"
   ]
  },
  {
   "cell_type": "code",
   "execution_count": null,
   "id": "ca85b642-dc5c-4bd2-a1a7-4cec72e3bf04",
   "metadata": {},
   "outputs": [],
   "source": [
    "dataframe_list = pd.read_html(url, flavor='bs4')"
   ]
  },
  {
   "cell_type": "code",
   "execution_count": null,
   "id": "b8c10e8b-10d4-4c75-813f-ee4de10bf11f",
   "metadata": {},
   "outputs": [],
   "source": [
    "len(dataframe_list)"
   ]
  },
  {
   "cell_type": "code",
   "execution_count": null,
   "id": "f9d8178f-0285-4552-ba6a-92d77840e292",
   "metadata": {},
   "outputs": [],
   "source": [
    "dataframe_list[5]"
   ]
  },
  {
   "cell_type": "code",
   "execution_count": null,
   "id": "3d937b17-1183-412e-b9a6-8c89a017a819",
   "metadata": {},
   "outputs": [],
   "source": [
    "pd.read_html(url, match=\"10 most densely populated countries\", flavor='bs4')[0]"
   ]
  }
 ],
 "metadata": {
  "kernelspec": {
   "display_name": "Python 3 (ipykernel)",
   "language": "python",
   "name": "python3"
  },
  "language_info": {
   "codemirror_mode": {
    "name": "ipython",
    "version": 3
   },
   "file_extension": ".py",
   "mimetype": "text/x-python",
   "name": "python",
   "nbconvert_exporter": "python",
   "pygments_lexer": "ipython3",
   "version": "3.12.7"
  }
 },
 "nbformat": 4,
 "nbformat_minor": 5
}
